{
 "cells": [
  {
   "cell_type": "markdown",
   "metadata": {
    "pycharm": {
     "name": "#%% md\n"
    }
   },
   "source": [
    "# _(Brunel & Hakim, 1999)_ Fast Global Oscillation"
   ]
  },
  {
   "cell_type": "markdown",
   "metadata": {
    "pycharm": {
     "name": "#%% md\n"
    }
   },
   "source": [
    "Implementation of the paper:\n",
    "\n",
    "- Brunel, Nicolas, and Vincent Hakim. \"Fast global oscillations in networks of integrate-and-fire neurons with low firing rates.\" Neural computation 11.7 (1999): 1621-1671.\n",
    "\n",
    "Author: [Chaoming Wang](mailto:chao.brain@qq.com)"
   ]
  },
  {
   "cell_type": "code",
   "execution_count": 1,
   "metadata": {
    "ExecuteTime": {
     "end_time": "2021-03-28T08:30:44.227219Z",
     "start_time": "2021-03-28T08:30:42.582285Z"
    },
    "pycharm": {
     "name": "#%%\n"
    }
   },
   "outputs": [],
   "source": [
    "import brainpy as bp\n",
    "import brainpy.math as bm\n",
    "\n",
    "bm.set_platform('cpu')"
   ]
  },
  {
   "cell_type": "code",
   "execution_count": 2,
   "metadata": {
    "ExecuteTime": {
     "end_time": "2021-03-28T08:30:44.242221Z",
     "start_time": "2021-03-28T08:30:44.232221Z"
    },
    "pycharm": {
     "name": "#%%\n"
    }
   },
   "outputs": [],
   "source": [
    "Vr = 10.  # mV\n",
    "theta = 20.  # mV\n",
    "tau = 20.  # ms\n",
    "delta = 2.  # ms\n",
    "taurefr = 2.  # ms\n",
    "duration = 100.  # ms\n",
    "J = .1  # mV\n",
    "muext = 25.  # mV\n",
    "sigmaext = 1.  # mV\n",
    "C = 1000\n",
    "N = 5000\n",
    "sparseness = float(C) / N"
   ]
  },
  {
   "cell_type": "code",
   "execution_count": 3,
   "metadata": {
    "ExecuteTime": {
     "end_time": "2021-03-28T08:30:44.273308Z",
     "start_time": "2021-03-28T08:30:44.247210Z"
    },
    "pycharm": {
     "name": "#%%\n"
    }
   },
   "outputs": [],
   "source": [
    "class LIF(bp.dyn.NeuGroup):\n",
    "  def __init__(self, size, **kwargs):\n",
    "    super(LIF, self).__init__(size, **kwargs)\n",
    "\n",
    "    # variables\n",
    "    self.V = bm.Variable(bm.ones(self.num) * Vr)\n",
    "    self.t_last_spike = bm.Variable(-1e7 * bm.ones(self.num))\n",
    "    self.spike = bm.Variable(bm.zeros(self.num, dtype=bool))\n",
    "    self.refractory = bm.Variable(bm.zeros(self.num, dtype=bool))\n",
    "\n",
    "    # integration functions\n",
    "    fv = lambda V, t: (-V + muext) / tau\n",
    "    gv = lambda V, t: sigmaext / bm.sqrt(tau)\n",
    "    self.int_v = bp.sdeint(f=fv, g=gv)\n",
    "\n",
    "  def update(self, tdi):\n",
    "    V = self.int_v(self.V, tdi.t, tdi.dt)\n",
    "    in_ref = (tdi.t - self.t_last_spike) < taurefr\n",
    "    V = bm.where(in_ref, self.V, V)\n",
    "    spike = V >= theta\n",
    "    self.spike.value = spike\n",
    "    self.V.value = bm.where(spike, Vr, V)\n",
    "    self.t_last_spike.value = bm.where(spike, tdi.t, self.t_last_spike)\n",
    "    self.refractory.value = bm.logical_or(in_ref, spike)"
   ]
  },
  {
   "cell_type": "code",
   "execution_count": 4,
   "metadata": {
    "ExecuteTime": {
     "end_time": "2021-03-28T08:30:44.290299Z",
     "start_time": "2021-03-28T08:30:44.279293Z"
    },
    "pycharm": {
     "name": "#%%\n"
    }
   },
   "outputs": [],
   "source": [
    "group = LIF(N)\n",
    "syn = bp.synapses.Delta(group, group,\n",
    "                        conn=bp.conn.FixedProb(sparseness),\n",
    "                        delay_step=int(delta / bm.get_dt()),\n",
    "                        post_ref_key='refractory',\n",
    "                        output=bp.synouts.CUBA(target_var='V'),\n",
    "                        g_max=-J)\n",
    "net = bp.dyn.Network(syn, group=group)"
   ]
  },
  {
   "cell_type": "code",
   "execution_count": 5,
   "metadata": {
    "ExecuteTime": {
     "end_time": "2021-03-28T08:30:51.971272Z",
     "start_time": "2021-03-28T08:30:44.296295Z"
    },
    "pycharm": {
     "name": "#%%\n"
    }
   },
   "outputs": [
    {
     "data": {
      "text/plain": "  0%|          | 0/1000 [00:00<?, ?it/s]",
      "application/vnd.jupyter.widget-view+json": {
       "version_major": 2,
       "version_minor": 0,
       "model_id": "a147f3997c3e45c9a190a558d0749263"
      }
     },
     "metadata": {},
     "output_type": "display_data"
    },
    {
     "data": {
      "text/plain": "<Figure size 432x288 with 1 Axes>",
      "image/png": "[encoded data removed]"
     },
     "metadata": {
      "needs_background": "light"
     },
     "output_type": "display_data"
    }
   ],
   "source": [
    "runner = bp.dyn.DSRunner(net, monitors=['group.spike'])\n",
    "runner.run(duration)\n",
    "bp.visualize.raster_plot(runner.mon.ts, runner.mon['group.spike'],\n",
    "                         xlim=(0, duration), show=True)"
   ]
  }
 ],
 "metadata": {
  "hide_input": false,
  "jupytext": {
   "formats": "ipynb,py:percent"
  },
  "kernelspec": {
   "name": "brainpy",
   "language": "python",
   "display_name": "brainpy"
  },
  "language_info": {
   "codemirror_mode": {
    "name": "ipython",
    "version": 3
   },
   "file_extension": ".py",
   "mimetype": "text/x-python",
   "name": "python",
   "nbconvert_exporter": "python",
   "pygments_lexer": "ipython3",
   "version": "3.9.7"
  },
  "latex_envs": {
   "LaTeX_envs_menu_present": true,
   "autoclose": false,
   "autocomplete": true,
   "bibliofile": "biblio.bib",
   "cite_by": "apalike",
   "current_citInitial": 1,
   "eqLabelWithNumbers": true,
   "eqNumInitial": 1,
   "hotkeys": {
    "equation": "Ctrl-E",
    "itemize": "Ctrl-I"
   },
   "labels_anchors": false,
   "latex_user_defs": false,
   "report_style_numbering": false,
   "user_envs_cfg": false
  },
  "toc": {
   "base_numbering": 1,
   "nav_menu": {},
   "number_sections": false,
   "sideBar": true,
   "skip_h1_title": false,
   "title_cell": "Table of Contents",
   "title_sidebar": "Contents",
   "toc_cell": false,
   "toc_position": {},
   "toc_section_display": true,
   "toc_window_display": false
  },
  "varInspector": {
   "cols": {
    "lenName": 16,
    "lenType": 16,
    "lenVar": 40
   },
   "kernels_config": {
    "python": {
     "delete_cmd_postfix": "",
     "delete_cmd_prefix": "del ",
     "library": "var_list.py",
     "varRefreshCmd": "print(var_dic_list())"
    },
    "r": {
     "delete_cmd_postfix": ") ",
     "delete_cmd_prefix": "rm(",
     "library": "var_list.r",
     "varRefreshCmd": "cat(var_dic_list()) "
    }
   },
   "types_to_exclude": [
    "module",
    "function",
    "builtin_function_or_method",
    "instance",
    "_Feature"
   ],
   "window_display": false
  }
 },
 "nbformat": 4,
 "nbformat_minor": 4
}