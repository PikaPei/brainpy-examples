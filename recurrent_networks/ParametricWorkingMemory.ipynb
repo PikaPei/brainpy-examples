{
 "cells": [
  {
   "cell_type": "markdown",
   "id": "d1a7f0ec",
   "metadata": {
    "pycharm": {
     "name": "#%% md\n"
    }
   },
   "source": [
    "# Train RNN to Solve Parametric Working Memory"
   ]
  },
  {
   "cell_type": "code",
   "execution_count": 1,
   "id": "4568569b",
   "metadata": {
    "pycharm": {
     "name": "#%%\n"
    }
   },
   "outputs": [],
   "source": [
    "import brainpy as bp\n",
    "import brainpy.math as bm\n",
    "bp.math.set_platform('cpu')"
   ]
  },
  {
   "cell_type": "code",
   "execution_count": 2,
   "id": "6e6338ac",
   "metadata": {
    "pycharm": {
     "name": "#%%\n"
    }
   },
   "outputs": [],
   "source": [
    "import numpy as np\n",
    "import matplotlib.pyplot as plt\n",
    "from sklearn.decomposition import PCA"
   ]
  },
  {
   "cell_type": "code",
   "execution_count": 3,
   "id": "ab0086a8",
   "metadata": {
    "pycharm": {
     "name": "#%%\n"
    }
   },
   "outputs": [],
   "source": [
    "# We will import the task from the neurogym library.\n",
    "# Please install neurogym:\n",
    "# \n",
    "# https://github.com/neurogym/neurogym\n",
    "\n",
    "import neurogym as ngym"
   ]
  },
  {
   "cell_type": "code",
   "execution_count": 4,
   "id": "7ab10920",
   "metadata": {
    "pycharm": {
     "name": "#%%\n"
    }
   },
   "outputs": [
    {
     "data": {
      "text/plain": "<Figure size 576x432 with 4 Axes>",
      "image/png": "[encoded data removed]"
     },
     "metadata": {
      "needs_background": "light"
     },
     "output_type": "display_data"
    }
   ],
   "source": [
    "# Environment\n",
    "task = 'DelayComparison-v0'\n",
    "timing = {'delay': ('choice', [200, 400, 800, 1600, 3200]),\n",
    "          'response': ('constant', 500)}\n",
    "kwargs = {'dt': 100, 'timing': timing}\n",
    "seq_len = 100\n",
    "\n",
    "# Make supervised dataset\n",
    "dataset = ngym.Dataset(task,\n",
    "                       env_kwargs=kwargs,\n",
    "                       batch_size=16,\n",
    "                       seq_len=seq_len)\n",
    "\n",
    "# A sample environment from dataset\n",
    "env = dataset.env\n",
    "# Visualize the environment with 2 sample trials\n",
    "_ = ngym.utils.plot_env(env, num_trials=2, def_act=0, fig_kwargs={'figsize': (8, 6)})\n",
    "plt.show()"
   ]
  },
  {
   "cell_type": "code",
   "execution_count": 5,
   "id": "dc6b34a4",
   "metadata": {
    "pycharm": {
     "name": "#%%\n"
    }
   },
   "outputs": [],
   "source": [
    "input_size = env.observation_space.shape[0]\n",
    "output_size = env.action_space.n\n",
    "batch_size = dataset.batch_size"
   ]
  },
  {
   "cell_type": "code",
   "execution_count": 6,
   "id": "4866ba2a",
   "metadata": {
    "pycharm": {
     "name": "#%%\n"
    }
   },
   "outputs": [],
   "source": [
    "class RNN(bp.dyn.DynamicalSystem):\n",
    "  def __init__(self, num_input, num_hidden, num_output, num_batch,\n",
    "               w_ir=bp.init.KaimingNormal(scale=1.),\n",
    "               w_rr=bp.init.KaimingNormal(scale=1.),\n",
    "               w_ro=bp.init.KaimingNormal(scale=1.),\n",
    "               dt=None, seed=None):\n",
    "    super(RNN, self).__init__()\n",
    "\n",
    "    # parameters\n",
    "    self.tau = 100\n",
    "    self.num_batch = num_batch\n",
    "    self.num_input = num_input\n",
    "    self.num_hidden = num_hidden\n",
    "    self.num_output = num_output\n",
    "    if dt is None:\n",
    "      self.alpha = 1\n",
    "    else:\n",
    "      self.alpha = dt / self.tau\n",
    "    self.rng = bm.random.RandomState(seed=seed)\n",
    "\n",
    "    # input weight\n",
    "    self.w_ir = bm.TrainVar(bp.init.parameter(w_ir, size=(num_input, num_hidden)))\n",
    "\n",
    "    # recurrent weight\n",
    "    bound = 1 / num_hidden ** 0.5\n",
    "    self.w_rr = bm.TrainVar(bp.init.parameter(w_rr, size=(num_hidden, num_hidden)))\n",
    "    self.b_rr = bm.TrainVar(self.rng.uniform(-bound, bound, num_hidden))\n",
    "\n",
    "    # readout weight\n",
    "    self.w_ro = bm.TrainVar(bp.init.parameter(w_ro, size=(num_hidden, num_output)))\n",
    "    self.b_ro = bm.TrainVar(self.rng.uniform(-bound, bound, num_output))\n",
    "\n",
    "    # variables\n",
    "    self.h = bm.Variable(bm.zeros((num_batch, num_hidden)))\n",
    "    self.o = bm.Variable(bm.zeros((num_batch, num_output)))\n",
    "\n",
    "  def cell(self, x, h):\n",
    "    ins = x @ self.w_ir + h @ self.w_rr + self.b_rr\n",
    "    state = h * (1 - self.alpha) + ins * self.alpha\n",
    "    return bm.relu(state)\n",
    "\n",
    "  def readout(self, h):\n",
    "    return h @ self.w_ro + self.b_ro\n",
    "\n",
    "  def make_update(self, h: bm.JaxArray, o: bm.JaxArray):\n",
    "    def f(x):\n",
    "      h.value = self.cell(x, h.value)\n",
    "      o.value = self.readout(h.value)\n",
    "\n",
    "    return f\n",
    "\n",
    "  def predict(self, xs):\n",
    "    self.h[:] = 0.\n",
    "    f = bm.make_loop(self.make_update(self.h, self.o),\n",
    "                     dyn_vars=self.vars(),\n",
    "                     out_vars=[self.h, self.o])\n",
    "    return f(xs)\n",
    "\n",
    "  def loss(self, xs, ys):\n",
    "    hs, os = self.predict(xs)\n",
    "    os = os.reshape((-1, os.shape[-1]))\n",
    "    loss = bp.losses.cross_entropy_loss(os, ys.flatten())\n",
    "    return loss, os"
   ]
  },
  {
   "cell_type": "code",
   "execution_count": 7,
   "id": "54c6d5d3",
   "metadata": {
    "pycharm": {
     "name": "#%%\n"
    }
   },
   "outputs": [],
   "source": [
    "# Instantiate the network and print information\n",
    "hidden_size = 64\n",
    "net = RNN(num_input=input_size,\n",
    "          num_hidden=hidden_size,\n",
    "          num_output=output_size,\n",
    "          num_batch=batch_size,\n",
    "          dt=env.dt)"
   ]
  },
  {
   "cell_type": "code",
   "execution_count": 8,
   "id": "be6a825b",
   "metadata": {
    "pycharm": {
     "name": "#%%\n"
    }
   },
   "outputs": [],
   "source": [
    "predict = bm.jit(net.predict, dyn_vars=net.vars())"
   ]
  },
  {
   "cell_type": "code",
   "execution_count": 9,
   "id": "9583fb87",
   "metadata": {
    "pycharm": {
     "name": "#%%\n"
    }
   },
   "outputs": [],
   "source": [
    "# Adam optimizer\n",
    "opt = bp.optim.Adam(lr=0.001, train_vars=net.train_vars().unique())"
   ]
  },
  {
   "cell_type": "code",
   "execution_count": 10,
   "id": "b6471f65",
   "metadata": {
    "pycharm": {
     "name": "#%%\n"
    }
   },
   "outputs": [],
   "source": [
    "# gradient function\n",
    "grad_f = bm.grad(net.loss,\n",
    "                 dyn_vars=net.vars(),\n",
    "                 grad_vars=net.train_vars().unique(),\n",
    "                 return_value=True,\n",
    "                 has_aux=True)"
   ]
  },
  {
   "cell_type": "code",
   "execution_count": 11,
   "id": "c6fad51c",
   "metadata": {
    "pycharm": {
     "name": "#%%\n"
    }
   },
   "outputs": [],
   "source": [
    "@bm.jit\n",
    "@bm.function(nodes=(net, opt))\n",
    "def train(xs, ys):\n",
    "  grads, loss, os = grad_f(xs, ys)\n",
    "  opt.update(grads)\n",
    "  return loss, os"
   ]
  },
  {
   "cell_type": "code",
   "execution_count": 12,
   "id": "ba5114c1",
   "metadata": {
    "pycharm": {
     "name": "#%%\n"
    }
   },
   "outputs": [
    {
     "name": "stdout",
     "output_type": "stream",
     "text": [
      "Step 100, Loss 0.1203, Acc 0.100\n",
      "Step 200, Loss 0.0263, Acc 0.724\n",
      "Step 300, Loss 0.0158, Acc 0.851\n",
      "Step 400, Loss 0.0114, Acc 0.892\n",
      "Step 500, Loss 0.0104, Acc 0.896\n",
      "Step 600, Loss 0.0097, Acc 0.904\n",
      "Step 700, Loss 0.0095, Acc 0.908\n",
      "Step 800, Loss 0.0084, Acc 0.917\n",
      "Step 900, Loss 0.0077, Acc 0.917\n",
      "Step 1000, Loss 0.0075, Acc 0.926\n",
      "Step 1100, Loss 0.0076, Acc 0.921\n",
      "Step 1200, Loss 0.0070, Acc 0.928\n",
      "Step 1300, Loss 0.0076, Acc 0.922\n",
      "Step 1400, Loss 0.0066, Acc 0.929\n",
      "Step 1500, Loss 0.0074, Acc 0.917\n",
      "Step 1600, Loss 0.0067, Acc 0.920\n",
      "Step 1700, Loss 0.0068, Acc 0.926\n",
      "Step 1800, Loss 0.0066, Acc 0.926\n",
      "Step 1900, Loss 0.0063, Acc 0.928\n",
      "Step 2000, Loss 0.0062, Acc 0.931\n"
     ]
    }
   ],
   "source": [
    "running_acc = 0\n",
    "running_loss = 0\n",
    "for i in range(2000):\n",
    "  inputs, labels_np = dataset()\n",
    "  inputs = bm.asarray(inputs)\n",
    "  labels = bm.asarray(labels_np)\n",
    "  loss, outputs = train(inputs, labels)\n",
    "  running_loss += loss\n",
    "  # Compute performance\n",
    "  output_np = np.argmax(bm.as_numpy(outputs), axis=-1).flatten()\n",
    "  labels_np = labels_np.flatten()\n",
    "  ind = labels_np > 0  # Only analyze time points when target is not fixation\n",
    "  running_acc += np.mean(labels_np[ind] == output_np[ind])\n",
    "  if i % 100 == 99:\n",
    "    running_loss /= 100\n",
    "    running_acc /= 100\n",
    "    print('Step {}, Loss {:0.4f}, Acc {:0.3f}'.format(i + 1, running_loss, running_acc))\n",
    "    running_loss = 0\n",
    "    running_acc = 0"
   ]
  },
  {
   "cell_type": "code",
   "execution_count": 13,
   "id": "f555d95e",
   "metadata": {
    "pycharm": {
     "name": "#%%\n"
    }
   },
   "outputs": [],
   "source": [
    "def run(num_trial=1):\n",
    "  env.reset(no_step=True)\n",
    "  perf = 0\n",
    "  activity_dict = {}\n",
    "  trial_infos = {}\n",
    "  for i in range(num_trial):\n",
    "    env.new_trial()\n",
    "    ob, gt = env.ob, env.gt\n",
    "    inputs = bm.asarray(ob[:, np.newaxis, :])\n",
    "    rnn_activity, action_pred = predict(inputs)\n",
    "    rnn_activity = rnn_activity.numpy()[:, 0, :]\n",
    "    activity_dict[i] = rnn_activity\n",
    "    trial_infos[i] = env.trial\n",
    "\n",
    "  # Concatenate activity for PCA\n",
    "  activity = np.concatenate(list(activity_dict[i] for i in range(num_trial)), axis=0)\n",
    "  print('Shape of the neural activity: (Time points, Neurons): ', activity.shape)\n",
    "\n",
    "  # Print trial informations\n",
    "  for i in range(5):\n",
    "    if i >= num_trial: break\n",
    "    print('Trial ', i, trial_infos[i])\n",
    "\n",
    "  pca = PCA(n_components=2)\n",
    "  pca.fit(activity)\n",
    "  # print('Shape of the projected activity: (Time points, PCs): ', activity_pc.shape)\n",
    "\n",
    "  fig, (ax1, ax2) = plt.subplots(1, 2, sharey=True, sharex=True, figsize=(6, 3))\n",
    "  for i in range(num_trial):\n",
    "    activity_pc = pca.transform(activity_dict[i])\n",
    "    trial = trial_infos[i]\n",
    "    color = 'red' if trial['ground_truth'] == 0 else 'blue'\n",
    "    _ = ax1.plot(activity_pc[:, 0], activity_pc[:, 1], 'o-', color=color)\n",
    "    if i < 3:\n",
    "      _ = ax2.plot(activity_pc[:, 0], activity_pc[:, 1], 'o-', color=color)\n",
    "  ax1.set_xlabel('PC 1')\n",
    "  ax1.set_ylabel('PC 2')\n",
    "  plt.show()"
   ]
  },
  {
   "cell_type": "code",
   "execution_count": 14,
   "id": "7fddce83",
   "metadata": {
    "pycharm": {
     "name": "#%%\n"
    }
   },
   "outputs": [
    {
     "name": "stdout",
     "output_type": "stream",
     "text": [
      "Shape of the neural activity: (Time points, Neurons):  (18, 64)\n",
      "Trial  0 {'ground_truth': 2, 'vpair': (18, 10), 'v1': 10, 'v2': 18}\n"
     ]
    },
    {
     "data": {
      "text/plain": "<Figure size 432x216 with 2 Axes>",
      "image/png": "[encoded data removed]"
     },
     "metadata": {
      "needs_background": "light"
     },
     "output_type": "display_data"
    }
   ],
   "source": [
    "run(num_trial=1)"
   ]
  },
  {
   "cell_type": "code",
   "execution_count": 15,
   "id": "96f50a4a",
   "metadata": {
    "pycharm": {
     "name": "#%%\n"
    }
   },
   "outputs": [
    {
     "name": "stdout",
     "output_type": "stream",
     "text": [
      "Shape of the neural activity: (Time points, Neurons):  (576, 64)\n",
      "Trial  0 {'ground_truth': 2, 'vpair': (34, 26), 'v1': 26, 'v2': 34}\n",
      "Trial  1 {'ground_truth': 2, 'vpair': (26, 18), 'v1': 18, 'v2': 26}\n",
      "Trial  2 {'ground_truth': 1, 'vpair': (18, 10), 'v1': 18, 'v2': 10}\n",
      "Trial  3 {'ground_truth': 1, 'vpair': (18, 10), 'v1': 18, 'v2': 10}\n",
      "Trial  4 {'ground_truth': 1, 'vpair': (34, 26), 'v1': 34, 'v2': 26}\n"
     ]
    },
    {
     "data": {
      "text/plain": "<Figure size 432x216 with 2 Axes>",
      "image/png": "[encoded data removed]"
     },
     "metadata": {
      "needs_background": "light"
     },
     "output_type": "display_data"
    }
   ],
   "source": [
    "run(num_trial=20)"
   ]
  },
  {
   "cell_type": "code",
   "execution_count": 16,
   "id": "8ae8346b",
   "metadata": {
    "pycharm": {
     "name": "#%%\n"
    }
   },
   "outputs": [
    {
     "name": "stdout",
     "output_type": "stream",
     "text": [
      "Shape of the neural activity: (Time points, Neurons):  (2816, 64)\n",
      "Trial  0 {'ground_truth': 1, 'vpair': (22, 14), 'v1': 22, 'v2': 14}\n",
      "Trial  1 {'ground_truth': 2, 'vpair': (26, 18), 'v1': 18, 'v2': 26}\n",
      "Trial  2 {'ground_truth': 2, 'vpair': (26, 18), 'v1': 18, 'v2': 26}\n",
      "Trial  3 {'ground_truth': 1, 'vpair': (26, 18), 'v1': 26, 'v2': 18}\n",
      "Trial  4 {'ground_truth': 1, 'vpair': (26, 18), 'v1': 26, 'v2': 18}\n"
     ]
    },
    {
     "data": {
      "text/plain": "<Figure size 432x216 with 2 Axes>",
      "image/png": "[encoded data removed]"
     },
     "metadata": {
      "needs_background": "light"
     },
     "output_type": "display_data"
    }
   ],
   "source": [
    "run(num_trial=100)"
   ]
  }
 ],
 "metadata": {
  "jupytext": {
   "formats": "ipynb,py:percent"
  },
  "kernelspec": {
   "name": "brainpy",
   "language": "python",
   "display_name": "brainpy"
  },
  "language_info": {
   "codemirror_mode": {
    "name": "ipython",
    "version": 3
   },
   "file_extension": ".py",
   "mimetype": "text/x-python",
   "name": "python",
   "nbconvert_exporter": "python",
   "pygments_lexer": "ipython3",
   "version": "3.9.7"
  },
  "latex_envs": {
   "LaTeX_envs_menu_present": true,
   "autoclose": false,
   "autocomplete": true,
   "bibliofile": "biblio.bib",
   "cite_by": "apalike",
   "current_citInitial": 1,
   "eqLabelWithNumbers": true,
   "eqNumInitial": 1,
   "hotkeys": {
    "equation": "Ctrl-E",
    "itemize": "Ctrl-I"
   },
   "labels_anchors": false,
   "latex_user_defs": false,
   "report_style_numbering": false,
   "user_envs_cfg": false
  },
  "toc": {
   "base_numbering": 1,
   "nav_menu": {},
   "number_sections": true,
   "sideBar": true,
   "skip_h1_title": false,
   "title_cell": "Table of Contents",
   "title_sidebar": "Contents",
   "toc_cell": false,
   "toc_position": {},
   "toc_section_display": true,
   "toc_window_display": false
  }
 },
 "nbformat": 4,
 "nbformat_minor": 5
}