{
 "cells": [
  {
   "cell_type": "markdown",
   "id": "46250053",
   "metadata": {
    "lines_to_next_cell": 0
   },
   "source": [
    "# Integrator RNN Model"
   ]
  },
  {
   "cell_type": "markdown",
   "id": "3f57ee5e",
   "metadata": {},
   "source": [
    "In this notebook, we train a vanilla RNN to integrate white noise. This example is useful on its own to understand how RNN training works."
   ]
  },
  {
   "cell_type": "code",
   "execution_count": 1,
   "id": "1d5361e4",
   "metadata": {
    "ExecuteTime": {
     "start_time": "2023-04-13T22:48:44.906179Z",
     "end_time": "2023-04-13T22:48:48.430579Z"
    }
   },
   "outputs": [],
   "source": [
    "from functools import partial\n",
    "import matplotlib.pyplot as plt\n",
    "\n",
    "import brainpy as bp\n",
    "import brainpy.math as bm\n",
    "\n",
    "bm.set_environment(bm.training_mode)"
   ]
  },
  {
   "cell_type": "markdown",
   "id": "19cb5aaf",
   "metadata": {
    "lines_to_next_cell": 2
   },
   "source": [
    "## Parameters"
   ]
  },
  {
   "cell_type": "code",
   "execution_count": 2,
   "id": "a3df36a0",
   "metadata": {
    "ExecuteTime": {
     "start_time": "2023-04-13T22:48:48.427578Z",
     "end_time": "2023-04-13T22:48:48.439098Z"
    }
   },
   "outputs": [],
   "source": [
    "dt = 0.04\n",
    "num_step = int(1.0 / dt)\n",
    "num_batch = 128"
   ]
  },
  {
   "cell_type": "markdown",
   "id": "4c0d1cac",
   "metadata": {},
   "source": [
    "## Data"
   ]
  },
  {
   "cell_type": "code",
   "execution_count": 3,
   "id": "1993c793",
   "metadata": {
    "ExecuteTime": {
     "start_time": "2023-04-13T22:48:48.444705Z",
     "end_time": "2023-04-13T22:48:48.459226Z"
    }
   },
   "outputs": [],
   "source": [
    "@bm.jit(static_argnames=['batch_size'])\n",
    "def build_inputs_and_targets(mean=0.025, scale=0.01, batch_size=10):\n",
    "  # Create the white noise input\n",
    "  sample = bm.random.normal(size=(batch_size, 1, 1))\n",
    "  bias = mean * 2.0 * (sample - 0.5)\n",
    "  samples = bm.random.normal(size=(batch_size, num_step, 1))\n",
    "  noise_t = scale / dt ** 0.5 * samples\n",
    "  inputs = bias + noise_t\n",
    "  targets = bm.cumsum(inputs, axis=1)\n",
    "  return inputs, targets"
   ]
  },
  {
   "cell_type": "code",
   "execution_count": 4,
   "id": "9a4c53b6",
   "metadata": {
    "ExecuteTime": {
     "start_time": "2023-04-13T22:48:48.459226Z",
     "end_time": "2023-04-13T22:48:48.479939Z"
    }
   },
   "outputs": [],
   "source": [
    "def train_data():\n",
    "  for _ in range(100):\n",
    "    yield build_inputs_and_targets(batch_size=num_batch)"
   ]
  },
  {
   "cell_type": "markdown",
   "id": "6c2b759d",
   "metadata": {},
   "source": [
    "## Model"
   ]
  },
  {
   "cell_type": "code",
   "execution_count": 5,
   "id": "1de8d486",
   "metadata": {
    "ExecuteTime": {
     "start_time": "2023-04-13T22:48:48.477908Z",
     "end_time": "2023-04-13T22:48:50.921226Z"
    }
   },
   "outputs": [
    {
     "name": "stderr",
     "output_type": "stream",
     "text": [
      "WARNING:absl:No GPU/TPU found, falling back to CPU. (Set TF_CPP_MIN_LOG_LEVEL=0 and rerun for more info.)\n"
     ]
    }
   ],
   "source": [
    "class RNN(bp.DynamicalSystem):\n",
    "  def __init__(self, num_in, num_hidden):\n",
    "    super(RNN, self).__init__()\n",
    "    self.rnn = bp.layers.RNNCell(num_in, num_hidden, train_state=True)\n",
    "    self.out = bp.layers.Dense(num_hidden, 1)\n",
    "\n",
    "  def update(self, sha, x):\n",
    "    return self.out(sha, self.rnn(sha, x))\n",
    "\n",
    "model = RNN(1, 100)"
   ]
  },
  {
   "cell_type": "markdown",
   "id": "5aac4126",
   "metadata": {},
   "source": [
    "## Training"
   ]
  },
  {
   "cell_type": "code",
   "execution_count": 6,
   "id": "9e63f9a7",
   "metadata": {
    "scrolled": false,
    "ExecuteTime": {
     "start_time": "2023-04-13T22:48:50.923746Z",
     "end_time": "2023-04-13T22:49:37.711936Z"
    }
   },
   "outputs": [
    {
     "name": "stdout",
     "output_type": "stream",
     "text": [
      "Train 200 steps, use 6.6661 s, loss 0.03267863020300865\n",
      "Train 400 steps, use 3.2480 s, loss 0.021463658660650253\n",
      "Train 600 steps, use 3.2402 s, loss 0.021079201251268387\n",
      "Train 800 steps, use 1.8296 s, loss 0.020880231633782387\n",
      "Train 1000 steps, use 2.1118 s, loss 0.020774580538272858\n",
      "Train 1200 steps, use 2.9573 s, loss 0.02063039317727089\n",
      "Train 1400 steps, use 2.7842 s, loss 0.0205252543091774\n",
      "Train 1600 steps, use 2.6614 s, loss 0.02043277956545353\n",
      "Train 1800 steps, use 2.8362 s, loss 0.020348429679870605\n",
      "Train 2000 steps, use 3.0956 s, loss 0.020263437181711197\n",
      "Train 2200 steps, use 2.8724 s, loss 0.020172588527202606\n",
      "Train 2400 steps, use 2.8865 s, loss 0.020098494365811348\n",
      "Train 2600 steps, use 2.9206 s, loss 0.020026057958602905\n",
      "Train 2800 steps, use 3.0855 s, loss 0.019952191039919853\n",
      "Train 3000 steps, use 2.8707 s, loss 0.019887030124664307\n"
     ]
    }
   ],
   "source": [
    "# define loss function\n",
    "def loss(predictions, targets, l2_reg=2e-4):\n",
    "  mse = bp.losses.mean_squared_error(predictions, targets)\n",
    "  l2 = l2_reg * bp.losses.l2_norm(model.train_vars().unique().dict()) ** 2\n",
    "  return mse + l2\n",
    "\n",
    "\n",
    "# define optimizer\n",
    "lr = bp.optim.ExponentialDecay(lr=0.025, decay_steps=1, decay_rate=0.99975)\n",
    "opt = bp.optim.Adam(lr=lr, eps=1e-1)\n",
    "\n",
    "\n",
    "# create a trainer\n",
    "trainer = bp.BPTT(model, loss_fun=loss, optimizer=opt)\n",
    "trainer.fit(train_data,\n",
    "            num_epoch=30,\n",
    "            num_report=200)"
   ]
  },
  {
   "cell_type": "code",
   "execution_count": 7,
   "id": "6a4f7da4",
   "metadata": {
    "ExecuteTime": {
     "start_time": "2023-04-13T22:49:37.705919Z",
     "end_time": "2023-04-13T22:49:37.920340Z"
    }
   },
   "outputs": [
    {
     "data": {
      "text/plain": "<Figure size 640x480 with 1 Axes>",
      "image/png": "[encoded data removed]"
     },
     "metadata": {},
     "output_type": "display_data"
    }
   ],
   "source": [
    "plt.plot(bm.as_numpy(trainer.get_hist_metric()))\n",
    "plt.show()"
   ]
  },
  {
   "cell_type": "markdown",
   "id": "359cf219",
   "metadata": {
    "lines_to_next_cell": 2
   },
   "source": [
    "## Testing"
   ]
  },
  {
   "cell_type": "code",
   "execution_count": 8,
   "id": "24dae0a4",
   "metadata": {
    "ExecuteTime": {
     "start_time": "2023-04-13T22:49:37.921338Z",
     "end_time": "2023-04-13T22:49:39.030776Z"
    }
   },
   "outputs": [
    {
     "data": {
      "text/plain": "  0%|          | 0/25 [00:00<?, ?it/s]",
      "application/vnd.jupyter.widget-view+json": {
       "version_major": 2,
       "version_minor": 0,
       "model_id": "0170f6f2013944e2a33adfc8e7b89a9f"
      }
     },
     "metadata": {},
     "output_type": "display_data"
    },
    {
     "data": {
      "text/plain": "<Figure size 800x200 with 1 Axes>",
      "image/png": "[encoded data removed]"
     },
     "metadata": {},
     "output_type": "display_data"
    }
   ],
   "source": [
    "model.reset_state(1)\n",
    "x, y = build_inputs_and_targets(batch_size=1)\n",
    "predicts = trainer.predict(x)\n",
    "\n",
    "plt.figure(figsize=(8, 2))\n",
    "plt.plot(bm.as_numpy(y[0]).flatten(), label='Ground Truth')\n",
    "plt.plot(bm.as_numpy(predicts[0]).flatten(), label='Prediction')\n",
    "plt.legend()\n",
    "plt.show()"
   ]
  }
 ],
 "metadata": {
  "jupytext": {
   "cell_metadata_filter": "-all",
   "encoding": "# -*- coding: utf-8 -*-",
   "formats": "ipynb,auto:percent",
   "notebook_metadata_filter": "-all"
  },
  "kernelspec": {
   "display_name": "brainpy",
   "language": "python",
   "name": "brainpy"
  },
  "language_info": {
   "codemirror_mode": {
    "name": "ipython",
    "version": 3
   },
   "file_extension": ".py",
   "mimetype": "text/x-python",
   "name": "python",
   "nbconvert_exporter": "python",
   "pygments_lexer": "ipython3",
   "version": "3.9.12"
  },
  "latex_envs": {
   "LaTeX_envs_menu_present": true,
   "autoclose": false,
   "autocomplete": true,
   "bibliofile": "biblio.bib",
   "cite_by": "apalike",
   "current_citInitial": 1,
   "eqLabelWithNumbers": true,
   "eqNumInitial": 1,
   "hotkeys": {
    "equation": "Ctrl-E",
    "itemize": "Ctrl-I"
   },
   "labels_anchors": false,
   "latex_user_defs": false,
   "report_style_numbering": false,
   "user_envs_cfg": false
  },
  "toc": {
   "base_numbering": 1,
   "nav_menu": {},
   "number_sections": true,
   "sideBar": true,
   "skip_h1_title": false,
   "title_cell": "Table of Contents",
   "title_sidebar": "Contents",
   "toc_cell": false,
   "toc_position": {},
   "toc_section_display": true,
   "toc_window_display": true
  }
 },
 "nbformat": 4,
 "nbformat_minor": 5
}
